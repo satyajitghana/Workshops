{
 "cells": [
  {
   "cell_type": "markdown",
   "metadata": {},
   "source": [
    "# Tweet's Analysis"
   ]
  },
  {
   "cell_type": "markdown",
   "metadata": {},
   "source": [
    "- rtweet\n",
    "- tidyverse\n",
    "## NLP\n",
    "    - udpipe (Universal Dependency)\n",
    "    - tidytext\n",
    "- ggplot2"
   ]
  },
  {
   "cell_type": "code",
   "execution_count": 3,
   "metadata": {},
   "outputs": [
    {
     "data": {
      "text/plain": [
       "\n",
       "To cite rtweet use:\n",
       "\n",
       "  Kearney, M. W. (2018). rtweet: Collecting Twitter Data. R package\n",
       "  version 0.6.7 Retrieved from\n",
       "  https://cran.r-project.org/package=rtweet\n",
       "\n",
       "A BibTeX entry for LaTeX users is\n",
       "\n",
       "  @Manual{rtweet-package,\n",
       "    title = {rtweet: Collecting Twitter Data},\n",
       "    author = {Michael W. Kearney},\n",
       "    year = {2018},\n",
       "    note = {R package version 0.6.7},\n",
       "    url = {https://cran.r-project.org/package=rtweet},\n",
       "  }\n"
      ]
     },
     "metadata": {},
     "output_type": "display_data"
    }
   ],
   "source": [
    "citation('rtweet')"
   ]
  },
  {
   "cell_type": "code",
   "execution_count": 2,
   "metadata": {},
   "outputs": [
    {
     "name": "stderr",
     "output_type": "stream",
     "text": [
      "Installing package into 'C:/Users/shadowleaf/Documents/R/win-library/3.5'\n",
      "(as 'lib' is unspecified)\n"
     ]
    },
    {
     "name": "stdout",
     "output_type": "stream",
     "text": [
      "package 'rtweet' successfully unpacked and MD5 sums checked\n",
      "\n",
      "The downloaded binary packages are in\n",
      "\tC:\\Users\\shadowleaf\\AppData\\Local\\Temp\\RtmpCihaN4\\downloaded_packages\n"
     ]
    }
   ],
   "source": [
    "install.packages('rtweet')"
   ]
  },
  {
   "cell_type": "code",
   "execution_count": null,
   "metadata": {},
   "outputs": [],
   "source": []
  }
 ],
 "metadata": {
  "kernelspec": {
   "display_name": "R",
   "language": "R",
   "name": "ir"
  },
  "language_info": {
   "codemirror_mode": "r",
   "file_extension": ".r",
   "mimetype": "text/x-r-source",
   "name": "R",
   "pygments_lexer": "r",
   "version": "3.5.1"
  }
 },
 "nbformat": 4,
 "nbformat_minor": 2
}
