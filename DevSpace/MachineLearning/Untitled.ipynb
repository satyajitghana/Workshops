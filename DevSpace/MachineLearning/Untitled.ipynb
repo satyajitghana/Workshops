{
 "cells": [
  {
   "cell_type": "code",
   "execution_count": 7,
   "metadata": {},
   "outputs": [],
   "source": [
    "text = \"hello VIT! Welcome!\""
   ]
  },
  {
   "cell_type": "code",
   "execution_count": 16,
   "metadata": {},
   "outputs": [],
   "source": [
    "text = \"hello helli hello\""
   ]
  },
  {
   "cell_type": "code",
   "execution_count": 9,
   "metadata": {},
   "outputs": [
    {
     "name": "stdout",
     "output_type": "stream",
     "text": [
      "Hell o\n",
      "ello  \n",
      "llo  H\n",
      "lo H e\n",
      "o He l\n",
      " Hel l\n",
      "Hell i\n",
      "elli  \n",
      "lli  H\n",
      "li H e\n",
      "i He l\n",
      " Hel l\n",
      "Hell o\n"
     ]
    }
   ],
   "source": [
    "k = 4\n",
    "for i in range(len(text)-k):\n",
    "    X = text[i:i+k]\n",
    "    Y = text[i+k]\n",
    "\n",
    "    print(X,Y)\n"
   ]
  },
  {
   "cell_type": "code",
   "execution_count": 12,
   "metadata": {},
   "outputs": [],
   "source": [
    "k = 4\n",
    "\n",
    "T = {}\n",
    "\n",
    "for i in range(len(text)-k):\n",
    "    X = text[i:i+k]\n",
    "    Y = text[i+k]\n",
    "\n",
    "    ##\"Hell\" is not present\n",
    "    if T.get(X) is None:\n",
    "        T[X] = {}\n",
    "        T[X][Y] = 1\n",
    "    else:\n",
    "        # \"Hell is present but Hell \"i\" is not present\n",
    "        if T[X].get(Y) is None:\n",
    "            T[X][Y] = 1\n",
    "        else:\n",
    "            T[X][Y] +=1\n",
    "            \n",
    "    #iterate over keys in T and Sum\n",
    "    for kx in T.keys():\n",
    "        s = 0\n",
    "        for v in T[kx].values():\n",
    "            s +=v\n",
    "            #divide every term in the row with sum\n",
    "        for ky in T[kx]:\n",
    "            T[kx][ky] /= s"
   ]
  },
  {
   "cell_type": "code",
   "execution_count": 14,
   "metadata": {},
   "outputs": [
    {
     "data": {
      "text/plain": [
       "{'Hell': {'o': 0.75, 'i': 0.25},\n",
       " 'ello': {' ': 1.0},\n",
       " 'llo ': {'H': 1.0},\n",
       " 'lo H': {'e': 1.0},\n",
       " 'o He': {'l': 1.0},\n",
       " ' Hel': {'l': 1.0},\n",
       " 'elli': {' ': 1.0},\n",
       " 'lli ': {'H': 1.0},\n",
       " 'li H': {'e': 1.0},\n",
       " 'i He': {'l': 1.0}}"
      ]
     },
     "execution_count": 14,
     "metadata": {},
     "output_type": "execute_result"
    }
   ],
   "source": [
    "T"
   ]
  },
  {
   "cell_type": "code",
   "execution_count": 15,
   "metadata": {},
   "outputs": [
    {
     "data": {
      "text/plain": [
       "{'Hell': {'o': 0.75, 'i': 0.25},\n",
       " 'ello': {' ': 1.0},\n",
       " 'llo ': {'H': 1.0},\n",
       " 'lo H': {'e': 1.0},\n",
       " 'o He': {'l': 1.0},\n",
       " ' Hel': {'l': 1.0},\n",
       " 'elli': {' ': 1.0},\n",
       " 'lli ': {'H': 1.0},\n",
       " 'li H': {'e': 1.0},\n",
       " 'i He': {'l': 1.0}}"
      ]
     },
     "execution_count": 15,
     "metadata": {},
     "output_type": "execute_result"
    }
   ],
   "source": [
    "T"
   ]
  },
  {
   "cell_type": "code",
   "execution_count": 17,
   "metadata": {},
   "outputs": [],
   "source": [
    "k = 4\n",
    "T = {}\n",
    "\n",
    "for i in range(len(text)-k):\n",
    "    X = text[i:i+k]\n",
    "    Y = text[i+k]\n",
    "    \n",
    "    # our task is to analyze probabilities\n",
    "    \n",
    "    # hell is not present\n",
    "    if T.get(X) is None:\n",
    "        T[X] = {}\n",
    "        T[X][Y] = 1\n",
    "    else:\n",
    "        # hell is present but hell i\n",
    "        if T[X].get(Y) is None:\n",
    "            T[X][Y] = 1\n",
    "        else:\n",
    "            T[X][Y] += 1\n",
    "    \n",
    "# iterate over keys in T and sum\n",
    "for kx in T.keys():\n",
    "    s = 0\n",
    "    for v in T[kx].values():\n",
    "        s += v\n",
    "    \n",
    "    # divide every term in the row in sum\n",
    "    for ky in T[kx]:\n",
    "        T[kx][ky] /= s"
   ]
  },
  {
   "cell_type": "code",
   "execution_count": 18,
   "metadata": {},
   "outputs": [
    {
     "data": {
      "text/plain": [
       "{'Hell': {'o': 0.6666666666666666, 'i': 0.3333333333333333},\n",
       " 'ello': {' ': 1.0},\n",
       " 'llo ': {'H': 1.0},\n",
       " 'lo H': {'e': 1.0},\n",
       " 'o He': {'l': 1.0},\n",
       " ' Hel': {'l': 1.0},\n",
       " 'elli': {' ': 1.0},\n",
       " 'lli ': {'H': 1.0},\n",
       " 'li H': {'e': 1.0},\n",
       " 'i He': {'l': 1.0}}"
      ]
     },
     "execution_count": 18,
     "metadata": {},
     "output_type": "execute_result"
    }
   ],
   "source": [
    "T"
   ]
  },
  {
   "cell_type": "code",
   "execution_count": 34,
   "metadata": {},
   "outputs": [
    {
     "name": "stdout",
     "output_type": "stream",
     "text": [
      "Manual printout!!???\n",
      "Sun if I give u cash of 5000 around will u add that AMt to ur respective bank then tez/ upi/paytm me later!!\n",
      "I will later add to bank after exams\n",
      "Okk\n",
      "Koi nahi\n",
      "Mai after exams add kar lunga\n",
      "Koi prob nahi\n",
      "DM Kar le\n",
      "Chirag ko\n",
      "Ohh\n",
      "Then okk\n",
      "water.docx (file attached)\n",
      "check the info!\n",
      "let me knoe is this enough for me ??\n",
      "or shld i add some thing\n",
      "if possible u add naaa\n",
      "okk\n",
      "done ppt bana\n",
      "next line character on whatweb kaha par hota hai\n",
      "*whatsapp web\n",
      "nahi ho  raha !!\n",
      "rukh log out karke relogin karta hoon\n",
      "done kam kar raha hai\n",
      "malum nhi kya hua tha\n",
      "IMG-20180220-WA0010.jpg (file attached)\n",
      "nahi kar raha hoon\n",
      "sharon ne bola ki kal hamara EC ka test hai\n",
      "phy manuals complete kara bas\n",
      "EC mai kuch nhi aata\n",
      "aur wo sala kal mujhe pakka puchega\n",
      "arre right angle kis cheez se check karte hai workshop\n",
      "okk\n",
      "mujhe toh neend aa  rahi hai\n",
      "mai chala sone\n",
      "morning 5 par utt jaunga\n",
      "its okk\n",
      "ek attendance matter nahi karta\n",
      "short break mai likh lunga\n",
      "tu toh janwar hai yaar\n",
      "jaa coding kar le\n",
      "🖕🏻\n",
      "Chutiya mera wala mujh par hee\n",
      "asshole\n",
      "nahi\n",
      "kya hua//????\n",
      "ohhh\n",
      "jaa maza kar\n",
      "varsha bhi hogi\n",
      "aaj wo bharath sir ko bitch bol rahi thi...\n",
      "i guess sir ne suna nhi bas\n",
      "yaaa\n",
      "kuch nhi\n",
      "wo bhi uss se dharr ta hai\n",
      "Naa ghar\n",
      "We see\n",
      "Okk\n",
      "Did Sanobar gave u my phy manual\n",
      "Okk\n",
      "Sabse bada wala c\n",
      "---------------------\n",
      "----------------------\n",
      "Tu le le mera\n",
      "Tu first\n",
      "Prachi tujhe chor kar cake kha rahi hai\n",
      "Yaaa\n",
      "Mujhe sirf 3 malum hai naam se\n",
      "Bakwas hai\n",
      "Mai download kar lunga\n",
      "Tere liya prachi ka gift??\n",
      "Kidar se liya\n",
      "Yes!! Sentence nahi\n",
      "This IMG ko yes\n",
      "Par kyu\n",
      "😨😨😨\n",
      "Tu sabse bada wala\n",
      "Ohh\n",
      "Tujhe kaise malum ??\n",
      "Ohh\n",
      "Mai christian nahi hoon\n",
      "Mujhe kya malum\n",
      "Jata hoga\n",
      "Tu first send kar then i will\n",
      "Arre i know it's her status has kush\n",
      "Her\n",
      "Mai kuch nahi\n",
      "Kyj\n",
      "Kyu\n",
      "Meri marji\n",
      "Arre  there is nothing\n",
      "Actually mai ne status dekha nahi tha uska ... Fast mai chala diya so read nahi kara ......\n",
      "Aur abhi dekha..\n",
      "Kya han ??\n",
      "Delete kar plz\n",
      "She will kill me\n",
      "Nhi\n",
      "Tune kya bheja\n",
      "Ohh\n",
      "Bhojpuri porn.....🤦‍♂\n",
      "Tharki\n",
      "Tera hai\n",
      "Baccho ko nahi pata hota hai\n",
      "kal send karunga\n",
      "i mean almari\n",
      "okkk order specify karna hota hai\n",
      "or no of constants???\n",
      "toh phir\n",
      "syms y(t)\n",
      "then\n",
      "lets see\n",
      "Heart attack..\n",
      "IMG-20180225-WA0005.jpg (file attached)\n",
      "Clg band hoga ...\n",
      "Aur i searched\n",
      "Kis se lega\n",
      "Kristi Bobby hai unki tr???\n",
      "Hehe\n",
      "Check the sample\n",
      "20180224_201218.jpg (file attached)\n",
      "155 mb ka hai .wait kar\n",
      "Pdf format mai hai\n",
      "Aur tu uske notes bhi pdf format mai send kar\n",
      "okk\n",
      "Yaa\n",
      "Mera 90% khatam hogaya aaj ka .....\n",
      "40/48 remaining hai\n",
      "each img is 3-4 mb so\n",
      "the img with blue pen are the img no\n",
      "//drive.google.com/drive/folders/10JfAQcQjm4984o1C1IF4HvDuSMZeW7ln?usp=sharing\n",
      "ec padh raha hai kya\n",
      "tutor2 bhi solve karna hai kya//\n",
      "and how to solve tutor1(q.11)???\n",
      "Matlab toh kuch aur hee de raha hai\n",
      "Math kar  mai try karunga\n",
      "rukh\n",
      "Arre hogaya\n",
      "Then yaad aaya ki addition karna hota bc\n",
      "YA ofcous\n",
      "Including prachi, rishika, neha sejal etc....\n",
      "And sharon , etc\n",
      "Rakh le\n",
      "Kya hai ??\n",
      "VID-20180226-WA0008.mp4 (file attached)\n",
      "VID-20180226-WA0009.mp4 (file attached)\n",
      "India mai\n",
      "Commentary toh hindi mai hai ..\n",
      "Malum hai..\n",
      "Hoga\n",
      "Nhi malum....\n",
      "Okkk\n",
      "Tharki🤣🖕🏻\n",
      "Singapore\n",
      "Dubai...\n",
      "Etc Baki hai abhi toh\n",
      "Mere compy sponsor kar degi😎\n",
      "Yaa .done\n",
      "IMG-20180226-WA0037.jpg (file attached)\n",
      "solution doubt hai\n",
      "2 Lines.pdf (file attached)\n",
      "check kar le\n",
      "maine cpy kar liya tha class desktop se\n",
      "nhi\n",
      "rukh pendrive mai check karta hoon\n",
      "2 Lines-1.pdf (file attached)\n",
      "2 Points.pdf (file attached)\n",
      "3 Planes-1.pdf (file attached)\n",
      "AutoCAD_Shortcuts.pdf (file attached)\n",
      "pioints mai single question hai\n",
      "this was to remove peace... frm samhitas whatpp\n",
      "hehe\n",
      "i DM ed her then in class grp\n",
      "and unfortunely i was the 1st and 2nd.\n",
      "third was u\n",
      "yep\n",
      "chal padna hai\n",
      "tu toh ed kar\n",
      "grt\n",
      "bye\n",
      "bye\n",
      "bye\n",
      "IMG-20180226-WA0053.jpg (file attached)\n",
      "Tujhe kyon yaad karta hai\n",
      "Prachi??\n",
      "Ask her\n",
      "Legit crush?\n",
      "Ohh\n",
      "Dont distrub\n",
      "Okk\n",
      "I will start at 15.00hr\n",
      "40!!!\n",
      "😞\n",
      "Now I will be doing it at 17hr\n",
      "sejal= sweety\n",
      "shaymant= titu\n",
      "usse din dekh liya tha\n",
      "on last sat\n",
      "tera charaternot defined\n",
      "i guess uski life mai no sonu\n",
      "presntly*\n",
      "HEHE\n",
      "😡\n",
      "Delete Kar sale\n",
      "🤦‍♂\n",
      "Delete karde\n",
      "Neha nhi dekh payegi..she did not save ur contact\n",
      "😭😨\n",
      "Nmath bol\n",
      "Math\n",
      "😁\n",
      "U don't know her\n",
      "🤣🤣\n",
      "Of course\n",
      "Yaa\n",
      "So gaya ??\n",
      "Now beta user are able to use delete vfor everyone option for one hr.\n",
      "Earlier 7 min has been revised to one hr\n",
      "Aaj holi celebration hai\n",
      "Might go\n",
      "Rishika and grp phir se ghumane gaye hai kya??\n",
      "Status at insta!!\n",
      "😨\n",
      "😱\n",
      "🤦‍♂\n",
      "IMG-20180301-WA0001.jpg (file attached)\n",
      "Syb kya hai\n",
      "Us din tune Rishika ko slide no whatsapp kiya tha naa\n",
      "Open bracket for 31\n",
      "??\n",
      "Ohh\n",
      "31 is optical fiber application\n",
      "\n",
      "Manual printout!!???\n",
      "Sun if I give u cash of 5000 around will u add that AMt to ur respective bank t\n"
     ]
    }
   ],
   "source": [
    "def load_file(filename):\n",
    "    with open(filename,encoding='utf-8') as f:\n",
    "        data = f.read()\n",
    "        print(data)\n",
    "    return data\n",
    "        \n",
    "data = load_file(\"Shubham-Sanitized.txt\")\n",
    "text = data\n",
    "print(text[:100])"
   ]
  },
  {
   "cell_type": "code",
   "execution_count": 29,
   "metadata": {},
   "outputs": [],
   "source": [
    "def predict(ctx):\n",
    "    \n",
    "    if T.get(ctx) is None:\n",
    "        return \" \"\n",
    "    possible_chars = list(T[stx].keys())\n",
    "    possible_values = list(T[stx].values())\n",
    "    return np.random.choice(possible_chars,p=possible_values)"
   ]
  },
  {
   "cell_type": "code",
   "execution_count": 30,
   "metadata": {},
   "outputs": [
    {
     "data": {
      "text/plain": [
       "' '"
      ]
     },
     "execution_count": 30,
     "metadata": {},
     "output_type": "execute_result"
    }
   ],
   "source": [
    "predict (\"hell\")"
   ]
  },
  {
   "cell_type": "code",
   "execution_count": 33,
   "metadata": {},
   "outputs": [
    {
     "name": "stdout",
     "output_type": "stream",
     "text": [
      "5\n"
     ]
    }
   ],
   "source": [
    "maxLen = 1000\n",
    "start_word = \"tune\"\n",
    "sentence = start_word\n",
    "for i in range(maxLen):\n",
    "    start_word = \"hell\"\n",
    "    sentence = start_word\n",
    "    pred = predict(sentence[-4:])\n",
    "    sentence += pred\n",
    "    \n",
    "print(len(sentence))"
   ]
  },
  {
   "cell_type": "code",
   "execution_count": null,
   "metadata": {},
   "outputs": [],
   "source": []
  },
  {
   "cell_type": "code",
   "execution_count": null,
   "metadata": {},
   "outputs": [],
   "source": []
  }
 ],
 "metadata": {
  "kernelspec": {
   "display_name": "tflow (Python 3.6)",
   "language": "python",
   "name": "tflow"
  },
  "language_info": {
   "codemirror_mode": {
    "name": "ipython",
    "version": 3
   },
   "file_extension": ".py",
   "mimetype": "text/x-python",
   "name": "python",
   "nbconvert_exporter": "python",
   "pygments_lexer": "ipython3",
   "version": "3.6.8"
  }
 },
 "nbformat": 4,
 "nbformat_minor": 2
}
