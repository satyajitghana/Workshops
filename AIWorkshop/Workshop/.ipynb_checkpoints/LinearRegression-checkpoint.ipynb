{
 "cells": [
  {
   "cell_type": "markdown",
   "metadata": {},
   "source": [
    "# Linear Regression"
   ]
  },
  {
   "cell_type": "markdown",
   "metadata": {},
   "source": [
    "Minimize $E = \\frac{1}{N}\\sum_{0}^{N}{[{Y-(mX+c)}]^2}$"
   ]
  },
  {
   "cell_type": "markdown",
   "metadata": {},
   "source": [
    "This is MSE (Mean Square Error) or LSE (Least Square Error)"
   ]
  },
  {
   "cell_type": "markdown",
   "metadata": {},
   "source": [
    "$Y_A-Y_P$ is the Cost Function  \n",
    "where $Y_A$ is the Actual Value  \n",
    "and $Y_P$ is the Predicted Value"
   ]
  },
  {
   "cell_type": "markdown",
   "metadata": {},
   "source": [
    "# $m = \\frac{\\sum_{0}^{n-1}{(X_i-\\bar{X})(Y_i-\\bar{Y})}}{\\sum_{0}^{n-1}{(X_i-\\bar{X})^2}}$  \n",
    "# $c = \\bar{Y}-m\\bar{X}$"
   ]
  },
  {
   "cell_type": "code",
   "execution_count": 1,
   "metadata": {},
   "outputs": [],
   "source": [
    "import numpy as np"
   ]
  },
  {
   "cell_type": "code",
   "execution_count": 2,
   "metadata": {},
   "outputs": [],
   "source": [
    "x = np.array([1, 2, 3, 4, 5]);\n",
    "y = np.array([1, 3, 2, 3, 5]);"
   ]
  },
  {
   "cell_type": "code",
   "execution_count": 8,
   "metadata": {},
   "outputs": [],
   "source": [
    "xx = [x - x.mean()]\n",
    "yy = [y - y.mean()]"
   ]
  },
  {
   "cell_type": "code",
   "execution_count": 14,
   "metadata": {},
   "outputs": [],
   "source": [
    "num = np.multiply(xx, yy)\n",
    "den = np.multiply(xx, xx)"
   ]
  },
  {
   "cell_type": "code",
   "execution_count": 15,
   "metadata": {},
   "outputs": [],
   "source": [
    "m = num.sum() / den.sum()"
   ]
  },
  {
   "cell_type": "code",
   "execution_count": 16,
   "metadata": {},
   "outputs": [
    {
     "data": {
      "text/plain": [
       "0.8"
      ]
     },
     "execution_count": 16,
     "metadata": {},
     "output_type": "execute_result"
    }
   ],
   "source": [
    "m"
   ]
  },
  {
   "cell_type": "code",
   "execution_count": 17,
   "metadata": {},
   "outputs": [],
   "source": [
    "c = y.mean() - m * x.mean()"
   ]
  },
  {
   "cell_type": "code",
   "execution_count": 73,
   "metadata": {},
   "outputs": [],
   "source": [
    "c = c.round(10)"
   ]
  },
  {
   "cell_type": "markdown",
   "metadata": {},
   "source": [
    "Cost Function \n",
    "# $\\frac{1}{2N}\\sum_{0}^{N-1}{(Y_i-Y)}$\n",
    "\n",
    "# $\\frac{\\partial{}}{\\partial{m}} = \\frac{2}{N}$"
   ]
  },
  {
   "cell_type": "code",
   "execution_count": 74,
   "metadata": {},
   "outputs": [],
   "source": [
    "myfit = lambda x: m * x + c"
   ]
  },
  {
   "cell_type": "code",
   "execution_count": 75,
   "metadata": {},
   "outputs": [],
   "source": [
    "import matplotlib.pyplot as plt"
   ]
  },
  {
   "cell_type": "code",
   "execution_count": 52,
   "metadata": {},
   "outputs": [],
   "source": [
    "nx = np.linspace(1, 5, 20)"
   ]
  },
  {
   "cell_type": "code",
   "execution_count": 53,
   "metadata": {},
   "outputs": [],
   "source": [
    "ny = m * nx + c"
   ]
  },
  {
   "cell_type": "code",
   "execution_count": 54,
   "metadata": {},
   "outputs": [
    {
     "data": {
      "image/png": "[encoded data removed]",
      "text/plain": [
       "<Figure size 432x288 with 1 Axes>"
      ]
     },
     "metadata": {
      "needs_background": "light"
     },
     "output_type": "display_data"
    }
   ],
   "source": [
    "plt.plot(nx, ny)\n",
    "plt.plot(x, y, '*')\n",
    "plt.grid()\n",
    "plt.legend(['data points', 'fit line'])\n",
    "plt.show()"
   ]
  },
  {
   "cell_type": "markdown",
   "metadata": {},
   "source": [
    "-"
   ]
  },
  {
   "cell_type": "code",
   "execution_count": 55,
   "metadata": {},
   "outputs": [],
   "source": [
    "import numpy as np"
   ]
  },
  {
   "cell_type": "code",
   "execution_count": 56,
   "metadata": {},
   "outputs": [],
   "source": [
    "x = np.array([[1], [2], [3], [4], [5]]);\n",
    "y = np.array([1, 3, 2, 3, 5]);"
   ]
  },
  {
   "cell_type": "code",
   "execution_count": 57,
   "metadata": {},
   "outputs": [
    {
     "data": {
      "text/plain": [
       "(array([[1],\n",
       "        [2],\n",
       "        [3],\n",
       "        [4],\n",
       "        [5]]), array([1, 3, 2, 3, 5]))"
      ]
     },
     "execution_count": 57,
     "metadata": {},
     "output_type": "execute_result"
    }
   ],
   "source": [
    "x, y"
   ]
  },
  {
   "cell_type": "code",
   "execution_count": 58,
   "metadata": {},
   "outputs": [],
   "source": [
    "from sklearn.linear_model import LinearRegression"
   ]
  },
  {
   "cell_type": "code",
   "execution_count": 59,
   "metadata": {},
   "outputs": [
    {
     "data": {
      "text/plain": [
       "LinearRegression(copy_X=True, fit_intercept=True, n_jobs=None,\n",
       "         normalize=False)"
      ]
     },
     "execution_count": 59,
     "metadata": {},
     "output_type": "execute_result"
    }
   ],
   "source": [
    "model = LinearRegression()\n",
    "model.fit(x, y)"
   ]
  },
  {
   "cell_type": "code",
   "execution_count": 76,
   "metadata": {},
   "outputs": [
    {
     "data": {
      "text/plain": [
       "array([1.2])"
      ]
     },
     "execution_count": 76,
     "metadata": {},
     "output_type": "execute_result"
    }
   ],
   "source": [
    "model.predict([[1]])"
   ]
  },
  {
   "cell_type": "code",
   "execution_count": 77,
   "metadata": {},
   "outputs": [
    {
     "data": {
      "text/plain": [
       "1.2000000000000002"
      ]
     },
     "execution_count": 77,
     "metadata": {},
     "output_type": "execute_result"
    }
   ],
   "source": [
    "myfit(1)"
   ]
  },
  {
   "cell_type": "code",
   "execution_count": 78,
   "metadata": {},
   "outputs": [
    {
     "data": {
      "text/plain": [
       "array([0.8])"
      ]
     },
     "execution_count": 78,
     "metadata": {},
     "output_type": "execute_result"
    }
   ],
   "source": [
    "model.coef_"
   ]
  },
  {
   "cell_type": "code",
   "execution_count": 79,
   "metadata": {},
   "outputs": [
    {
     "data": {
      "text/plain": [
       "0.39999999999999947"
      ]
     },
     "execution_count": 79,
     "metadata": {},
     "output_type": "execute_result"
    }
   ],
   "source": [
    "model.intercept_"
   ]
  },
  {
   "cell_type": "code",
   "execution_count": 81,
   "metadata": {},
   "outputs": [],
   "source": [
    "from keras.models import Sequential\n",
    "from keras.layers import Dense"
   ]
  },
  {
   "cell_type": "code",
   "execution_count": 86,
   "metadata": {},
   "outputs": [
    {
     "name": "stdout",
     "output_type": "stream",
     "text": [
      "Epoch 1/200\n",
      "5/5 [==============================] - 1s 105ms/step - loss: 0.8249 - acc: 0.4000\n",
      "Epoch 2/200\n",
      "5/5 [==============================] - 0s 4ms/step - loss: 0.8028 - acc: 0.4000\n",
      "Epoch 3/200\n",
      "5/5 [==============================] - 0s 5ms/step - loss: 0.7881 - acc: 0.4000\n",
      "Epoch 4/200\n",
      "5/5 [==============================] - 0s 4ms/step - loss: 0.7759 - acc: 0.4000\n",
      "Epoch 5/200\n",
      "5/5 [==============================] - 0s 4ms/step - loss: 0.7645 - acc: 0.4000\n",
      "Epoch 6/200\n",
      "5/5 [==============================] - 0s 4ms/step - loss: 0.7536 - acc: 0.4000\n",
      "Epoch 7/200\n",
      "5/5 [==============================] - 0s 4ms/step - loss: 0.7434 - acc: 0.4000\n",
      "Epoch 8/200\n",
      "5/5 [==============================] - 0s 4ms/step - loss: 0.7335 - acc: 0.4000\n",
      "Epoch 9/200\n",
      "5/5 [==============================] - 0s 4ms/step - loss: 0.7246 - acc: 0.4000\n",
      "Epoch 10/200\n",
      "5/5 [==============================] - 0s 3ms/step - loss: 0.7151 - acc: 0.4000\n",
      "Epoch 11/200\n",
      "5/5 [==============================] - 0s 4ms/step - loss: 0.7068 - acc: 0.4000\n",
      "Epoch 12/200\n",
      "5/5 [==============================] - 0s 5ms/step - loss: 0.6983 - acc: 0.4000\n",
      "Epoch 13/200\n",
      "5/5 [==============================] - 0s 4ms/step - loss: 0.6906 - acc: 0.4000\n",
      "Epoch 14/200\n",
      "5/5 [==============================] - 0s 4ms/step - loss: 0.6831 - acc: 0.4000\n",
      "Epoch 15/200\n",
      "5/5 [==============================] - 0s 4ms/step - loss: 0.6759 - acc: 0.4000\n",
      "Epoch 16/200\n",
      "5/5 [==============================] - 0s 4ms/step - loss: 0.6689 - acc: 0.4000\n",
      "Epoch 17/200\n",
      "5/5 [==============================] - 0s 4ms/step - loss: 0.6622 - acc: 0.4000\n",
      "Epoch 18/200\n",
      "5/5 [==============================] - 0s 3ms/step - loss: 0.6553 - acc: 0.4000\n",
      "Epoch 19/200\n",
      "5/5 [==============================] - 0s 3ms/step - loss: 0.6485 - acc: 0.4000\n",
      "Epoch 20/200\n",
      "5/5 [==============================] - 0s 3ms/step - loss: 0.6425 - acc: 0.4000\n",
      "Epoch 21/200\n",
      "5/5 [==============================] - 0s 3ms/step - loss: 0.6371 - acc: 0.4000\n",
      "Epoch 22/200\n",
      "5/5 [==============================] - 0s 3ms/step - loss: 0.6317 - acc: 0.4000\n",
      "Epoch 23/200\n",
      "5/5 [==============================] - 0s 3ms/step - loss: 0.6265 - acc: 0.4000\n",
      "Epoch 24/200\n",
      "5/5 [==============================] - 0s 3ms/step - loss: 0.6214 - acc: 0.4000\n",
      "Epoch 25/200\n",
      "5/5 [==============================] - 0s 3ms/step - loss: 0.6166 - acc: 0.4000\n",
      "Epoch 26/200\n",
      "5/5 [==============================] - 0s 3ms/step - loss: 0.6119 - acc: 0.4000\n",
      "Epoch 27/200\n",
      "5/5 [==============================] - 0s 3ms/step - loss: 0.6078 - acc: 0.4000\n",
      "Epoch 28/200\n",
      "5/5 [==============================] - 0s 3ms/step - loss: 0.6036 - acc: 0.4000\n",
      "Epoch 29/200\n",
      "5/5 [==============================] - 0s 3ms/step - loss: 0.5993 - acc: 0.4000\n",
      "Epoch 30/200\n",
      "5/5 [==============================] - 0s 3ms/step - loss: 0.5953 - acc: 0.4000\n",
      "Epoch 31/200\n",
      "5/5 [==============================] - 0s 3ms/step - loss: 0.5918 - acc: 0.4000\n",
      "Epoch 32/200\n",
      "5/5 [==============================] - 0s 3ms/step - loss: 0.5887 - acc: 0.4000\n",
      "Epoch 33/200\n",
      "5/5 [==============================] - 0s 3ms/step - loss: 0.5858 - acc: 0.4000\n",
      "Epoch 34/200\n",
      "5/5 [==============================] - 0s 3ms/step - loss: 0.5825 - acc: 0.4000\n",
      "Epoch 35/200\n",
      "5/5 [==============================] - 0s 3ms/step - loss: 0.5796 - acc: 0.4000\n",
      "Epoch 36/200\n",
      "5/5 [==============================] - 0s 3ms/step - loss: 0.5769 - acc: 0.4000\n",
      "Epoch 37/200\n",
      "5/5 [==============================] - 0s 3ms/step - loss: 0.5741 - acc: 0.4000\n",
      "Epoch 38/200\n",
      "5/5 [==============================] - 0s 3ms/step - loss: 0.5715 - acc: 0.4000\n",
      "Epoch 39/200\n",
      "5/5 [==============================] - 0s 3ms/step - loss: 0.5689 - acc: 0.4000\n",
      "Epoch 40/200\n",
      "5/5 [==============================] - 0s 3ms/step - loss: 0.5668 - acc: 0.4000\n",
      "Epoch 41/200\n",
      "5/5 [==============================] - 0s 3ms/step - loss: 0.5644 - acc: 0.4000\n",
      "Epoch 42/200\n",
      "5/5 [==============================] - 0s 3ms/step - loss: 0.5627 - acc: 0.4000\n",
      "Epoch 43/200\n",
      "5/5 [==============================] - 0s 3ms/step - loss: 0.5605 - acc: 0.4000\n",
      "Epoch 44/200\n",
      "5/5 [==============================] - 0s 3ms/step - loss: 0.5589 - acc: 0.4000\n",
      "Epoch 45/200\n",
      "5/5 [==============================] - 0s 3ms/step - loss: 0.5571 - acc: 0.4000\n",
      "Epoch 46/200\n",
      "5/5 [==============================] - 0s 3ms/step - loss: 0.5553 - acc: 0.4000\n",
      "Epoch 47/200\n",
      "5/5 [==============================] - 0s 3ms/step - loss: 0.5539 - acc: 0.4000\n",
      "Epoch 48/200\n",
      "5/5 [==============================] - 0s 3ms/step - loss: 0.5523 - acc: 0.4000\n",
      "Epoch 49/200\n",
      "5/5 [==============================] - 0s 3ms/step - loss: 0.5510 - acc: 0.4000\n",
      "Epoch 50/200\n",
      "5/5 [==============================] - 0s 3ms/step - loss: 0.5494 - acc: 0.4000\n",
      "Epoch 51/200\n",
      "5/5 [==============================] - 0s 3ms/step - loss: 0.5484 - acc: 0.4000\n",
      "Epoch 52/200\n",
      "5/5 [==============================] - 0s 3ms/step - loss: 0.5471 - acc: 0.4000\n",
      "Epoch 53/200\n",
      "5/5 [==============================] - 0s 3ms/step - loss: 0.5461 - acc: 0.4000\n",
      "Epoch 54/200\n",
      "5/5 [==============================] - 0s 3ms/step - loss: 0.5451 - acc: 0.4000\n",
      "Epoch 55/200\n",
      "5/5 [==============================] - 0s 3ms/step - loss: 0.5441 - acc: 0.4000\n",
      "Epoch 56/200\n",
      "5/5 [==============================] - 0s 3ms/step - loss: 0.5431 - acc: 0.4000\n",
      "Epoch 57/200\n",
      "5/5 [==============================] - 0s 3ms/step - loss: 0.5422 - acc: 0.4000\n",
      "Epoch 58/200\n",
      "5/5 [==============================] - 0s 3ms/step - loss: 0.5412 - acc: 0.4000\n",
      "Epoch 59/200\n",
      "5/5 [==============================] - 0s 3ms/step - loss: 0.5405 - acc: 0.4000\n",
      "Epoch 60/200\n",
      "5/5 [==============================] - 0s 3ms/step - loss: 0.5397 - acc: 0.4000\n",
      "Epoch 61/200\n",
      "5/5 [==============================] - 0s 3ms/step - loss: 0.5391 - acc: 0.4000\n",
      "Epoch 62/200\n",
      "5/5 [==============================] - 0s 3ms/step - loss: 0.5384 - acc: 0.4000\n",
      "Epoch 63/200\n",
      "5/5 [==============================] - 0s 3ms/step - loss: 0.5377 - acc: 0.4000\n",
      "Epoch 64/200\n",
      "5/5 [==============================] - 0s 3ms/step - loss: 0.5368 - acc: 0.4000\n",
      "Epoch 65/200\n",
      "5/5 [==============================] - 0s 3ms/step - loss: 0.5362 - acc: 0.4000\n",
      "Epoch 66/200\n",
      "5/5 [==============================] - 0s 3ms/step - loss: 0.5357 - acc: 0.4000\n",
      "Epoch 67/200\n",
      "5/5 [==============================] - 0s 3ms/step - loss: 0.5353 - acc: 0.4000\n",
      "Epoch 68/200\n",
      "5/5 [==============================] - 0s 3ms/step - loss: 0.5346 - acc: 0.4000\n",
      "Epoch 69/200\n",
      "5/5 [==============================] - 0s 3ms/step - loss: 0.5341 - acc: 0.4000\n",
      "Epoch 70/200\n",
      "5/5 [==============================] - 0s 3ms/step - loss: 0.5336 - acc: 0.4000\n",
      "Epoch 71/200\n",
      "5/5 [==============================] - 0s 3ms/step - loss: 0.5331 - acc: 0.4000\n",
      "Epoch 72/200\n",
      "5/5 [==============================] - 0s 3ms/step - loss: 0.5327 - acc: 0.4000\n",
      "Epoch 73/200\n",
      "5/5 [==============================] - 0s 3ms/step - loss: 0.5322 - acc: 0.4000\n",
      "Epoch 74/200\n",
      "5/5 [==============================] - 0s 3ms/step - loss: 0.5319 - acc: 0.4000\n",
      "Epoch 75/200\n",
      "5/5 [==============================] - 0s 3ms/step - loss: 0.5313 - acc: 0.4000\n",
      "Epoch 76/200\n",
      "5/5 [==============================] - 0s 3ms/step - loss: 0.5312 - acc: 0.4000\n",
      "Epoch 77/200\n",
      "5/5 [==============================] - 0s 3ms/step - loss: 0.5308 - acc: 0.4000\n",
      "Epoch 78/200\n",
      "5/5 [==============================] - 0s 3ms/step - loss: 0.5304 - acc: 0.4000\n",
      "Epoch 79/200\n",
      "5/5 [==============================] - 0s 3ms/step - loss: 0.5302 - acc: 0.4000\n",
      "Epoch 80/200\n",
      "5/5 [==============================] - 0s 3ms/step - loss: 0.5298 - acc: 0.4000\n",
      "Epoch 81/200\n",
      "5/5 [==============================] - 0s 3ms/step - loss: 0.5297 - acc: 0.4000\n",
      "Epoch 82/200\n",
      "5/5 [==============================] - 0s 3ms/step - loss: 0.5293 - acc: 0.4000\n",
      "Epoch 83/200\n",
      "5/5 [==============================] - 0s 3ms/step - loss: 0.5290 - acc: 0.4000\n",
      "Epoch 84/200\n",
      "5/5 [==============================] - 0s 3ms/step - loss: 0.5288 - acc: 0.4000\n",
      "Epoch 85/200\n",
      "5/5 [==============================] - 0s 3ms/step - loss: 0.5285 - acc: 0.4000\n",
      "Epoch 86/200\n",
      "5/5 [==============================] - 0s 3ms/step - loss: 0.5282 - acc: 0.4000\n",
      "Epoch 87/200\n",
      "5/5 [==============================] - 0s 3ms/step - loss: 0.5281 - acc: 0.4000\n",
      "Epoch 88/200\n",
      "5/5 [==============================] - 0s 3ms/step - loss: 0.5278 - acc: 0.4000\n",
      "Epoch 89/200\n",
      "5/5 [==============================] - 0s 3ms/step - loss: 0.5277 - acc: 0.4000\n",
      "Epoch 90/200\n",
      "5/5 [==============================] - 0s 3ms/step - loss: 0.5273 - acc: 0.4000\n",
      "Epoch 91/200\n",
      "5/5 [==============================] - 0s 3ms/step - loss: 0.5273 - acc: 0.4000\n",
      "Epoch 92/200\n",
      "5/5 [==============================] - 0s 3ms/step - loss: 0.5272 - acc: 0.4000\n",
      "Epoch 93/200\n",
      "5/5 [==============================] - 0s 3ms/step - loss: 0.5269 - acc: 0.4000\n",
      "Epoch 94/200\n",
      "5/5 [==============================] - 0s 3ms/step - loss: 0.5267 - acc: 0.4000\n",
      "Epoch 95/200\n",
      "5/5 [==============================] - 0s 4ms/step - loss: 0.5265 - acc: 0.4000\n",
      "Epoch 96/200\n",
      "5/5 [==============================] - 0s 3ms/step - loss: 0.5264 - acc: 0.4000\n",
      "Epoch 97/200\n",
      "5/5 [==============================] - 0s 3ms/step - loss: 0.5261 - acc: 0.4000\n",
      "Epoch 98/200\n",
      "5/5 [==============================] - 0s 3ms/step - loss: 0.5261 - acc: 0.4000\n",
      "Epoch 99/200\n",
      "5/5 [==============================] - 0s 3ms/step - loss: 0.5259 - acc: 0.4000\n",
      "Epoch 100/200\n",
      "5/5 [==============================] - 0s 4ms/step - loss: 0.5259 - acc: 0.4000\n",
      "Epoch 101/200\n",
      "5/5 [==============================] - 0s 3ms/step - loss: 0.5256 - acc: 0.4000\n",
      "Epoch 102/200\n",
      "5/5 [==============================] - 0s 4ms/step - loss: 0.5255 - acc: 0.4000\n",
      "Epoch 103/200\n",
      "5/5 [==============================] - 0s 3ms/step - loss: 0.5253 - acc: 0.4000\n",
      "Epoch 104/200\n",
      "5/5 [==============================] - 0s 3ms/step - loss: 0.5253 - acc: 0.4000\n",
      "Epoch 105/200\n",
      "5/5 [==============================] - 0s 3ms/step - loss: 0.5252 - acc: 0.4000\n",
      "Epoch 106/200\n",
      "5/5 [==============================] - 0s 3ms/step - loss: 0.5251 - acc: 0.4000\n",
      "Epoch 107/200\n",
      "5/5 [==============================] - 0s 3ms/step - loss: 0.5250 - acc: 0.4000\n",
      "Epoch 108/200\n",
      "5/5 [==============================] - 0s 3ms/step - loss: 0.5248 - acc: 0.4000\n",
      "Epoch 109/200\n",
      "5/5 [==============================] - 0s 3ms/step - loss: 0.5246 - acc: 0.4000\n",
      "Epoch 110/200\n",
      "5/5 [==============================] - 0s 4ms/step - loss: 0.5246 - acc: 0.4000\n",
      "Epoch 111/200\n",
      "5/5 [==============================] - 0s 4ms/step - loss: 0.5245 - acc: 0.4000\n",
      "Epoch 112/200\n",
      "5/5 [==============================] - 0s 3ms/step - loss: 0.5244 - acc: 0.4000\n",
      "Epoch 113/200\n",
      "5/5 [==============================] - 0s 3ms/step - loss: 0.5242 - acc: 0.4000\n",
      "Epoch 114/200\n",
      "5/5 [==============================] - 0s 3ms/step - loss: 0.5241 - acc: 0.4000\n",
      "Epoch 115/200\n",
      "5/5 [==============================] - 0s 3ms/step - loss: 0.5242 - acc: 0.4000\n",
      "Epoch 116/200\n",
      "5/5 [==============================] - 0s 3ms/step - loss: 0.5240 - acc: 0.4000\n",
      "Epoch 117/200\n",
      "5/5 [==============================] - 0s 3ms/step - loss: 0.5239 - acc: 0.4000\n",
      "Epoch 118/200\n",
      "5/5 [==============================] - 0s 3ms/step - loss: 0.5237 - acc: 0.4000\n",
      "Epoch 119/200\n",
      "5/5 [==============================] - 0s 3ms/step - loss: 0.5236 - acc: 0.4000\n",
      "Epoch 120/200\n",
      "5/5 [==============================] - 0s 3ms/step - loss: 0.5236 - acc: 0.4000\n",
      "Epoch 121/200\n",
      "5/5 [==============================] - 0s 3ms/step - loss: 0.5234 - acc: 0.4000\n",
      "Epoch 122/200\n",
      "5/5 [==============================] - 0s 3ms/step - loss: 0.5233 - acc: 0.4000\n",
      "Epoch 123/200\n",
      "5/5 [==============================] - 0s 3ms/step - loss: 0.5232 - acc: 0.4000\n",
      "Epoch 124/200\n",
      "5/5 [==============================] - 0s 3ms/step - loss: 0.5233 - acc: 0.4000\n",
      "Epoch 125/200\n",
      "5/5 [==============================] - 0s 3ms/step - loss: 0.5231 - acc: 0.4000\n",
      "Epoch 126/200\n",
      "5/5 [==============================] - 0s 3ms/step - loss: 0.5229 - acc: 0.4000\n",
      "Epoch 127/200\n",
      "5/5 [==============================] - 0s 3ms/step - loss: 0.5231 - acc: 0.4000\n",
      "Epoch 128/200\n",
      "5/5 [==============================] - 0s 3ms/step - loss: 0.5229 - acc: 0.4000\n",
      "Epoch 129/200\n",
      "5/5 [==============================] - 0s 3ms/step - loss: 0.5227 - acc: 0.4000\n",
      "Epoch 130/200\n",
      "5/5 [==============================] - 0s 3ms/step - loss: 0.5227 - acc: 0.4000\n",
      "Epoch 131/200\n",
      "5/5 [==============================] - 0s 3ms/step - loss: 0.5226 - acc: 0.4000\n",
      "Epoch 132/200\n",
      "5/5 [==============================] - 0s 3ms/step - loss: 0.5226 - acc: 0.4000\n",
      "Epoch 133/200\n",
      "5/5 [==============================] - 0s 3ms/step - loss: 0.5225 - acc: 0.4000\n",
      "Epoch 134/200\n",
      "5/5 [==============================] - 0s 3ms/step - loss: 0.5224 - acc: 0.4000\n",
      "Epoch 135/200\n",
      "5/5 [==============================] - 0s 3ms/step - loss: 0.5223 - acc: 0.4000\n",
      "Epoch 136/200\n",
      "5/5 [==============================] - 0s 3ms/step - loss: 0.5223 - acc: 0.4000\n",
      "Epoch 137/200\n",
      "5/5 [==============================] - 0s 3ms/step - loss: 0.5221 - acc: 0.4000\n",
      "Epoch 138/200\n",
      "5/5 [==============================] - 0s 3ms/step - loss: 0.5222 - acc: 0.4000\n",
      "Epoch 139/200\n",
      "5/5 [==============================] - 0s 3ms/step - loss: 0.5220 - acc: 0.4000\n",
      "Epoch 140/200\n",
      "5/5 [==============================] - 0s 3ms/step - loss: 0.5220 - acc: 0.4000\n",
      "Epoch 141/200\n",
      "5/5 [==============================] - 0s 3ms/step - loss: 0.5218 - acc: 0.4000\n",
      "Epoch 142/200\n",
      "5/5 [==============================] - 0s 3ms/step - loss: 0.5218 - acc: 0.4000\n",
      "Epoch 143/200\n",
      "5/5 [==============================] - 0s 3ms/step - loss: 0.5217 - acc: 0.4000\n",
      "Epoch 144/200\n",
      "5/5 [==============================] - 0s 3ms/step - loss: 0.5217 - acc: 0.4000\n",
      "Epoch 145/200\n",
      "5/5 [==============================] - 0s 3ms/step - loss: 0.5216 - acc: 0.4000\n",
      "Epoch 146/200\n",
      "5/5 [==============================] - 0s 3ms/step - loss: 0.5216 - acc: 0.4000\n",
      "Epoch 147/200\n",
      "5/5 [==============================] - 0s 3ms/step - loss: 0.5214 - acc: 0.4000\n",
      "Epoch 148/200\n",
      "5/5 [==============================] - 0s 3ms/step - loss: 0.5213 - acc: 0.4000\n",
      "Epoch 149/200\n",
      "5/5 [==============================] - 0s 3ms/step - loss: 0.5213 - acc: 0.4000\n",
      "Epoch 150/200\n",
      "5/5 [==============================] - 0s 3ms/step - loss: 0.5211 - acc: 0.4000\n",
      "Epoch 151/200\n",
      "5/5 [==============================] - 0s 3ms/step - loss: 0.5212 - acc: 0.4000\n",
      "Epoch 152/200\n",
      "5/5 [==============================] - 0s 3ms/step - loss: 0.5211 - acc: 0.4000\n",
      "Epoch 153/200\n",
      "5/5 [==============================] - 0s 3ms/step - loss: 0.5210 - acc: 0.4000\n",
      "Epoch 154/200\n",
      "5/5 [==============================] - 0s 2ms/step - loss: 0.5209 - acc: 0.4000\n",
      "Epoch 155/200\n",
      "5/5 [==============================] - 0s 3ms/step - loss: 0.5209 - acc: 0.4000\n",
      "Epoch 156/200\n",
      "5/5 [==============================] - 0s 3ms/step - loss: 0.5208 - acc: 0.4000\n",
      "Epoch 157/200\n",
      "5/5 [==============================] - 0s 3ms/step - loss: 0.5208 - acc: 0.4000\n",
      "Epoch 158/200\n",
      "5/5 [==============================] - 0s 3ms/step - loss: 0.5206 - acc: 0.4000\n",
      "Epoch 159/200\n",
      "5/5 [==============================] - 0s 3ms/step - loss: 0.5206 - acc: 0.4000\n",
      "Epoch 160/200\n",
      "5/5 [==============================] - 0s 3ms/step - loss: 0.5204 - acc: 0.4000\n",
      "Epoch 161/200\n",
      "5/5 [==============================] - 0s 4ms/step - loss: 0.5204 - acc: 0.4000\n",
      "Epoch 162/200\n",
      "5/5 [==============================] - 0s 3ms/step - loss: 0.5205 - acc: 0.4000\n",
      "Epoch 163/200\n",
      "5/5 [==============================] - 0s 3ms/step - loss: 0.5202 - acc: 0.4000\n",
      "Epoch 164/200\n",
      "5/5 [==============================] - 0s 3ms/step - loss: 0.5203 - acc: 0.4000\n",
      "Epoch 165/200\n",
      "5/5 [==============================] - 0s 3ms/step - loss: 0.5203 - acc: 0.4000\n",
      "Epoch 166/200\n",
      "5/5 [==============================] - 0s 3ms/step - loss: 0.5201 - acc: 0.4000\n",
      "Epoch 167/200\n",
      "5/5 [==============================] - 0s 4ms/step - loss: 0.5200 - acc: 0.4000\n",
      "Epoch 168/200\n",
      "5/5 [==============================] - 0s 3ms/step - loss: 0.5201 - acc: 0.4000\n",
      "Epoch 169/200\n",
      "5/5 [==============================] - 0s 3ms/step - loss: 0.5198 - acc: 0.4000\n",
      "Epoch 170/200\n",
      "5/5 [==============================] - 0s 4ms/step - loss: 0.5197 - acc: 0.4000\n",
      "Epoch 171/200\n",
      "5/5 [==============================] - 0s 3ms/step - loss: 0.5198 - acc: 0.4000\n",
      "Epoch 172/200\n",
      "5/5 [==============================] - 0s 4ms/step - loss: 0.5198 - acc: 0.4000\n",
      "Epoch 173/200\n",
      "5/5 [==============================] - 0s 3ms/step - loss: 0.5197 - acc: 0.4000\n",
      "Epoch 174/200\n",
      "5/5 [==============================] - 0s 3ms/step - loss: 0.5195 - acc: 0.4000\n",
      "Epoch 175/200\n",
      "5/5 [==============================] - 0s 3ms/step - loss: 0.5195 - acc: 0.4000\n",
      "Epoch 176/200\n",
      "5/5 [==============================] - 0s 3ms/step - loss: 0.5195 - acc: 0.4000\n",
      "Epoch 177/200\n",
      "5/5 [==============================] - 0s 3ms/step - loss: 0.5195 - acc: 0.4000\n",
      "Epoch 178/200\n",
      "5/5 [==============================] - 0s 3ms/step - loss: 0.5193 - acc: 0.4000\n",
      "Epoch 179/200\n",
      "5/5 [==============================] - 0s 3ms/step - loss: 0.5193 - acc: 0.4000\n",
      "Epoch 180/200\n",
      "5/5 [==============================] - 0s 2ms/step - loss: 0.5191 - acc: 0.4000\n",
      "Epoch 181/200\n",
      "5/5 [==============================] - 0s 3ms/step - loss: 0.5192 - acc: 0.4000\n",
      "Epoch 182/200\n",
      "5/5 [==============================] - 0s 3ms/step - loss: 0.5190 - acc: 0.4000\n",
      "Epoch 183/200\n",
      "5/5 [==============================] - 0s 3ms/step - loss: 0.5190 - acc: 0.4000\n",
      "Epoch 184/200\n",
      "5/5 [==============================] - 0s 3ms/step - loss: 0.5190 - acc: 0.4000\n",
      "Epoch 185/200\n",
      "5/5 [==============================] - 0s 3ms/step - loss: 0.5188 - acc: 0.4000\n",
      "Epoch 186/200\n",
      "5/5 [==============================] - 0s 3ms/step - loss: 0.5188 - acc: 0.4000\n",
      "Epoch 187/200\n",
      "5/5 [==============================] - 0s 3ms/step - loss: 0.5189 - acc: 0.4000\n",
      "Epoch 188/200\n",
      "5/5 [==============================] - 0s 3ms/step - loss: 0.5187 - acc: 0.4000\n",
      "Epoch 189/200\n",
      "5/5 [==============================] - 0s 2ms/step - loss: 0.5186 - acc: 0.4000\n",
      "Epoch 190/200\n",
      "5/5 [==============================] - 0s 3ms/step - loss: 0.5187 - acc: 0.4000\n",
      "Epoch 191/200\n",
      "5/5 [==============================] - 0s 4ms/step - loss: 0.5185 - acc: 0.4000\n",
      "Epoch 192/200\n",
      "5/5 [==============================] - 0s 3ms/step - loss: 0.5183 - acc: 0.4000\n",
      "Epoch 193/200\n",
      "5/5 [==============================] - 0s 2ms/step - loss: 0.5183 - acc: 0.4000\n",
      "Epoch 194/200\n",
      "5/5 [==============================] - 0s 3ms/step - loss: 0.5183 - acc: 0.4000\n",
      "Epoch 195/200\n",
      "5/5 [==============================] - 0s 2ms/step - loss: 0.5184 - acc: 0.4000\n",
      "Epoch 196/200\n",
      "5/5 [==============================] - 0s 3ms/step - loss: 0.5182 - acc: 0.4000\n",
      "Epoch 197/200\n",
      "5/5 [==============================] - 0s 3ms/step - loss: 0.5182 - acc: 0.4000\n",
      "Epoch 198/200\n",
      "5/5 [==============================] - 0s 3ms/step - loss: 0.5180 - acc: 0.4000\n",
      "Epoch 199/200\n",
      "5/5 [==============================] - 0s 3ms/step - loss: 0.5181 - acc: 0.4000\n",
      "Epoch 200/200\n",
      "5/5 [==============================] - 0s 2ms/step - loss: 0.5180 - acc: 0.4000\n"
     ]
    },
    {
     "data": {
      "text/plain": [
       "<keras.callbacks.History at 0x18907e87198>"
      ]
     },
     "execution_count": 86,
     "metadata": {},
     "output_type": "execute_result"
    }
   ],
   "source": [
    "model = Sequential()\n",
    "model.add(Dense(1, activation = 'linear', input_dim = 1))\n",
    "model.compile(optimizer = 'rmsprop', loss = 'mean_squared_error', metrics = ['accuracy'])\n",
    "model.fit(x,y,epochs =200,batch_size = 1)"
   ]
  },
  {
   "cell_type": "code",
   "execution_count": 87,
   "metadata": {},
   "outputs": [
    {
     "name": "stdout",
     "output_type": "stream",
     "text": [
      "_________________________________________________________________\n",
      "Layer (type)                 Output Shape              Param #   \n",
      "=================================================================\n",
      "dense_3 (Dense)              (None, 1)                 2         \n",
      "=================================================================\n",
      "Total params: 2\n",
      "Trainable params: 2\n",
      "Non-trainable params: 0\n",
      "_________________________________________________________________\n"
     ]
    }
   ],
   "source": [
    "model.summary()"
   ]
  },
  {
   "cell_type": "code",
   "execution_count": 88,
   "metadata": {},
   "outputs": [
    {
     "data": {
      "text/plain": [
       "[array([[0.9246635]], dtype=float32), array([-0.03755656], dtype=float32)]"
      ]
     },
     "execution_count": 88,
     "metadata": {},
     "output_type": "execute_result"
    }
   ],
   "source": [
    "model.get_weights()"
   ]
  },
  {
   "cell_type": "code",
   "execution_count": null,
   "metadata": {},
   "outputs": [],
   "source": []
  }
 ],
 "metadata": {
  "kernelspec": {
   "display_name": "Python 3.7 (tflow)",
   "language": "python",
   "name": "tflow"
  },
  "language_info": {
   "codemirror_mode": {
    "name": "ipython",
    "version": 3
   },
   "file_extension": ".py",
   "mimetype": "text/x-python",
   "name": "python",
   "nbconvert_exporter": "python",
   "pygments_lexer": "ipython3",
   "version": "3.6.7"
  }
 },
 "nbformat": 4,
 "nbformat_minor": 2
}
